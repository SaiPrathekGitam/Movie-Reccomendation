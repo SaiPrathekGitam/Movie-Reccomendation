{
 "cells": [
  {
   "cell_type": "markdown",
   "metadata": {},
   "source": [
    "# Apriori Associate Rule Learning"
   ]
  },
  {
   "cell_type": "code",
   "execution_count": 7,
   "metadata": {},
   "outputs": [],
   "source": [
    "import numpy as np\n",
    "import pandas as pd\n",
    "import matplotlib.pyplot as plt"
   ]
  },
  {
   "cell_type": "code",
   "execution_count": 8,
   "metadata": {},
   "outputs": [
    {
     "data": {
      "text/html": [
       "<div>\n",
       "<style scoped>\n",
       "    .dataframe tbody tr th:only-of-type {\n",
       "        vertical-align: middle;\n",
       "    }\n",
       "\n",
       "    .dataframe tbody tr th {\n",
       "        vertical-align: top;\n",
       "    }\n",
       "\n",
       "    .dataframe thead th {\n",
       "        text-align: right;\n",
       "    }\n",
       "</style>\n",
       "<table border=\"1\" class=\"dataframe\">\n",
       "  <thead>\n",
       "    <tr style=\"text-align: right;\">\n",
       "      <th></th>\n",
       "      <th>userId</th>\n",
       "      <th>movieId</th>\n",
       "      <th>rating</th>\n",
       "      <th>timestamp</th>\n",
       "    </tr>\n",
       "  </thead>\n",
       "  <tbody>\n",
       "    <tr>\n",
       "      <th>0</th>\n",
       "      <td>1</td>\n",
       "      <td>1</td>\n",
       "      <td>4.0</td>\n",
       "      <td>964982703</td>\n",
       "    </tr>\n",
       "    <tr>\n",
       "      <th>1</th>\n",
       "      <td>1</td>\n",
       "      <td>3</td>\n",
       "      <td>4.0</td>\n",
       "      <td>964981247</td>\n",
       "    </tr>\n",
       "    <tr>\n",
       "      <th>2</th>\n",
       "      <td>1</td>\n",
       "      <td>6</td>\n",
       "      <td>4.0</td>\n",
       "      <td>964982224</td>\n",
       "    </tr>\n",
       "    <tr>\n",
       "      <th>3</th>\n",
       "      <td>1</td>\n",
       "      <td>47</td>\n",
       "      <td>5.0</td>\n",
       "      <td>964983815</td>\n",
       "    </tr>\n",
       "    <tr>\n",
       "      <th>4</th>\n",
       "      <td>1</td>\n",
       "      <td>50</td>\n",
       "      <td>5.0</td>\n",
       "      <td>964982931</td>\n",
       "    </tr>\n",
       "  </tbody>\n",
       "</table>\n",
       "</div>"
      ],
      "text/plain": [
       "   userId  movieId  rating  timestamp\n",
       "0       1        1     4.0  964982703\n",
       "1       1        3     4.0  964981247\n",
       "2       1        6     4.0  964982224\n",
       "3       1       47     5.0  964983815\n",
       "4       1       50     5.0  964982931"
      ]
     },
     "execution_count": 8,
     "metadata": {},
     "output_type": "execute_result"
    }
   ],
   "source": [
    "ratings = pd.read_csv('ratings.csv')\n",
    "ratings.head()"
   ]
  },
  {
   "cell_type": "code",
   "execution_count": 9,
   "metadata": {},
   "outputs": [],
   "source": [
    "list_ = ratings.movieId.groupby(ratings.userId)"
   ]
  },
  {
   "cell_type": "code",
   "execution_count": 21,
   "metadata": {},
   "outputs": [],
   "source": [
    "transactions = []\n",
    "for i in list_:\n",
    "    transactions.append(i[1].values[:3])"
   ]
  },
  {
   "cell_type": "code",
   "execution_count": 22,
   "metadata": {},
   "outputs": [],
   "source": [
    "from apyori import apriori\n",
    "rules = apriori(transactions = transactions, min_support = 0.003, min_confidence = 0.2, min_lift = 3, min_length = 2, max_length = 2)"
   ]
  },
  {
   "cell_type": "code",
   "execution_count": 23,
   "metadata": {},
   "outputs": [],
   "source": [
    "results = list(rules)"
   ]
  },
  {
   "cell_type": "code",
   "execution_count": 24,
   "metadata": {},
   "outputs": [
    {
     "data": {
      "text/plain": [
       "[RelationRecord(items=frozenset({8, 2}), support=0.003278688524590164, ordered_statistics=[OrderedStatistic(items_base=frozenset({8}), items_add=frozenset({2}), confidence=0.6666666666666666, lift=3.696969696969697)]),\n",
       " RelationRecord(items=frozenset({3, 5}), support=0.018032786885245903, ordered_statistics=[OrderedStatistic(items_base=frozenset({3}), items_add=frozenset({5}), confidence=0.21153846153846156, lift=3.2259615384615388), OrderedStatistic(items_base=frozenset({5}), items_add=frozenset({3}), confidence=0.275, lift=3.2259615384615388)]),\n",
       " RelationRecord(items=frozenset({3, 14}), support=0.003278688524590164, ordered_statistics=[OrderedStatistic(items_base=frozenset({14}), items_add=frozenset({3}), confidence=0.39999999999999997, lift=4.6923076923076925)]),\n",
       " RelationRecord(items=frozenset({4, 7}), support=0.003278688524590164, ordered_statistics=[OrderedStatistic(items_base=frozenset({4}), items_add=frozenset({7}), confidence=0.2857142857142857, lift=5.446428571428571)]),\n",
       " RelationRecord(items=frozenset({9, 5}), support=0.003278688524590164, ordered_statistics=[OrderedStatistic(items_base=frozenset({9}), items_add=frozenset({5}), confidence=0.3333333333333333, lift=5.083333333333333)]),\n",
       " RelationRecord(items=frozenset({14, 7}), support=0.003278688524590164, ordered_statistics=[OrderedStatistic(items_base=frozenset({14}), items_add=frozenset({7}), confidence=0.39999999999999997, lift=7.624999999999999)]),\n",
       " RelationRecord(items=frozenset({10, 15}), support=0.003278688524590164, ordered_statistics=[OrderedStatistic(items_base=frozenset({15}), items_add=frozenset({10}), confidence=1.0, lift=6.630434782608695)]),\n",
       " RelationRecord(items=frozenset({10, 44}), support=0.006557377049180328, ordered_statistics=[OrderedStatistic(items_base=frozenset({44}), items_add=frozenset({10}), confidence=0.5, lift=3.3152173913043477)]),\n",
       " RelationRecord(items=frozenset({105, 10}), support=0.003278688524590164, ordered_statistics=[OrderedStatistic(items_base=frozenset({105}), items_add=frozenset({10}), confidence=1.0, lift=6.630434782608695)]),\n",
       " RelationRecord(items=frozenset({17, 11}), support=0.00819672131147541, ordered_statistics=[OrderedStatistic(items_base=frozenset({17}), items_add=frozenset({11}), confidence=0.20833333333333331, lift=3.8510101010101008)]),\n",
       " RelationRecord(items=frozenset({11, 21}), support=0.009836065573770493, ordered_statistics=[OrderedStatistic(items_base=frozenset({21}), items_add=frozenset({11}), confidence=0.25, lift=4.621212121212121)]),\n",
       " RelationRecord(items=frozenset({16, 58}), support=0.003278688524590164, ordered_statistics=[OrderedStatistic(items_base=frozenset({58}), items_add=frozenset({16}), confidence=0.3333333333333333, lift=4.841269841269841)]),\n",
       " RelationRecord(items=frozenset({17, 21}), support=0.009836065573770493, ordered_statistics=[OrderedStatistic(items_base=frozenset({17}), items_add=frozenset({21}), confidence=0.25, lift=6.354166666666666), OrderedStatistic(items_base=frozenset({21}), items_add=frozenset({17}), confidence=0.25, lift=6.354166666666666)]),\n",
       " RelationRecord(items=frozenset({19, 22}), support=0.003278688524590164, ordered_statistics=[OrderedStatistic(items_base=frozenset({22}), items_add=frozenset({19}), confidence=0.3333333333333333, lift=7.530864197530864)]),\n",
       " RelationRecord(items=frozenset({24, 31}), support=0.003278688524590164, ordered_statistics=[OrderedStatistic(items_base=frozenset({24}), items_add=frozenset({31}), confidence=0.25, lift=13.863636363636363)]),\n",
       " RelationRecord(items=frozenset({24, 223}), support=0.003278688524590164, ordered_statistics=[OrderedStatistic(items_base=frozenset({24}), items_add=frozenset({223}), confidence=0.25, lift=13.863636363636363)]),\n",
       " RelationRecord(items=frozenset({25, 36}), support=0.003278688524590164, ordered_statistics=[OrderedStatistic(items_base=frozenset({36}), items_add=frozenset({25}), confidence=0.2857142857142857, lift=10.892857142857142)]),\n",
       " RelationRecord(items=frozenset({62, 31}), support=0.003278688524590164, ordered_statistics=[OrderedStatistic(items_base=frozenset({62}), items_add=frozenset({31}), confidence=0.39999999999999997, lift=22.18181818181818)]),\n",
       " RelationRecord(items=frozenset({32, 344}), support=0.004918032786885246, ordered_statistics=[OrderedStatistic(items_base=frozenset({344}), items_add=frozenset({32}), confidence=0.6, lift=6.421052631578947)]),\n",
       " RelationRecord(items=frozenset({34, 223}), support=0.004918032786885246, ordered_statistics=[OrderedStatistic(items_base=frozenset({223}), items_add=frozenset({34}), confidence=0.2727272727272727, lift=4.496314496314496)]),\n",
       " RelationRecord(items=frozenset({44, 47}), support=0.004918032786885246, ordered_statistics=[OrderedStatistic(items_base=frozenset({44}), items_add=frozenset({47}), confidence=0.37500000000000006, lift=3.6309523809523814)]),\n",
       " RelationRecord(items=frozenset({45, 318}), support=0.003278688524590164, ordered_statistics=[OrderedStatistic(items_base=frozenset({45}), items_add=frozenset({318}), confidence=0.2857142857142857, lift=4.357142857142857)]),\n",
       " RelationRecord(items=frozenset({48, 60}), support=0.003278688524590164, ordered_statistics=[OrderedStatistic(items_base=frozenset({60}), items_add=frozenset({48}), confidence=0.3333333333333333, lift=14.523809523809524)]),\n",
       " RelationRecord(items=frozenset({48, 158}), support=0.003278688524590164, ordered_statistics=[OrderedStatistic(items_base=frozenset({158}), items_add=frozenset({48}), confidence=0.39999999999999997, lift=17.428571428571427)]),\n",
       " RelationRecord(items=frozenset({48, 168}), support=0.003278688524590164, ordered_statistics=[OrderedStatistic(items_base=frozenset({168}), items_add=frozenset({48}), confidence=0.39999999999999997, lift=17.428571428571427)]),\n",
       " RelationRecord(items=frozenset({58, 110}), support=0.003278688524590164, ordered_statistics=[OrderedStatistic(items_base=frozenset({58}), items_add=frozenset({110}), confidence=0.3333333333333333, lift=3.696969696969697)]),\n",
       " RelationRecord(items=frozenset({60, 262}), support=0.003278688524590164, ordered_statistics=[OrderedStatistic(items_base=frozenset({60}), items_add=frozenset({262}), confidence=0.3333333333333333, lift=101.66666666666666), OrderedStatistic(items_base=frozenset({262}), items_add=frozenset({60}), confidence=1.0, lift=101.66666666666666)]),\n",
       " RelationRecord(items=frozenset({110, 70}), support=0.003278688524590164, ordered_statistics=[OrderedStatistic(items_base=frozenset({70}), items_add=frozenset({110}), confidence=0.39999999999999997, lift=4.436363636363636)]),\n",
       " RelationRecord(items=frozenset({104, 216}), support=0.003278688524590164, ordered_statistics=[OrderedStatistic(items_base=frozenset({216}), items_add=frozenset({104}), confidence=0.6666666666666666, lift=29.047619047619047)]),\n",
       " RelationRecord(items=frozenset({150, 110}), support=0.013114754098360656, ordered_statistics=[OrderedStatistic(items_base=frozenset({150}), items_add=frozenset({110}), confidence=0.3636363636363636, lift=4.033057851239668)]),\n",
       " RelationRecord(items=frozenset({161, 110}), support=0.003278688524590164, ordered_statistics=[OrderedStatistic(items_base=frozenset({161}), items_add=frozenset({110}), confidence=0.6666666666666666, lift=7.393939393939394)]),\n",
       " RelationRecord(items=frozenset({163, 110}), support=0.003278688524590164, ordered_statistics=[OrderedStatistic(items_base=frozenset({163}), items_add=frozenset({110}), confidence=0.2857142857142857, lift=3.1688311688311686)]),\n",
       " RelationRecord(items=frozenset({316, 110}), support=0.003278688524590164, ordered_statistics=[OrderedStatistic(items_base=frozenset({316}), items_add=frozenset({110}), confidence=0.5, lift=5.545454545454545)]),\n",
       " RelationRecord(items=frozenset({589, 110}), support=0.003278688524590164, ordered_statistics=[OrderedStatistic(items_base=frozenset({589}), items_add=frozenset({110}), confidence=0.5, lift=5.545454545454545)]),\n",
       " RelationRecord(items=frozenset({296, 147}), support=0.003278688524590164, ordered_statistics=[OrderedStatistic(items_base=frozenset({147}), items_add=frozenset({296}), confidence=1.0, lift=21.78571428571429)]),\n",
       " RelationRecord(items=frozenset({153, 150}), support=0.003278688524590164, ordered_statistics=[OrderedStatistic(items_base=frozenset({153}), items_add=frozenset({150}), confidence=0.2222222222222222, lift=6.161616161616161)]),\n",
       " RelationRecord(items=frozenset({165, 150}), support=0.004918032786885246, ordered_statistics=[OrderedStatistic(items_base=frozenset({165}), items_add=frozenset({150}), confidence=0.5, lift=13.863636363636363)]),\n",
       " RelationRecord(items=frozenset({296, 153}), support=0.003278688524590164, ordered_statistics=[OrderedStatistic(items_base=frozenset({153}), items_add=frozenset({296}), confidence=0.2222222222222222, lift=4.841269841269841)]),\n",
       " RelationRecord(items=frozenset({260, 293}), support=0.00819672131147541, ordered_statistics=[OrderedStatistic(items_base=frozenset({293}), items_add=frozenset({260}), confidence=0.38461538461538464, lift=5.3321678321678325)]),\n",
       " RelationRecord(items=frozenset({296, 260}), support=0.011475409836065573, ordered_statistics=[OrderedStatistic(items_base=frozenset({296}), items_add=frozenset({260}), confidence=0.25, lift=3.465909090909091)]),\n",
       " RelationRecord(items=frozenset({260, 316}), support=0.004918032786885246, ordered_statistics=[OrderedStatistic(items_base=frozenset({316}), items_add=frozenset({260}), confidence=0.7500000000000001, lift=10.397727272727273)]),\n",
       " RelationRecord(items=frozenset({480, 260}), support=0.003278688524590164, ordered_statistics=[OrderedStatistic(items_base=frozenset({480}), items_add=frozenset({260}), confidence=0.6666666666666666, lift=9.24242424242424)]),\n",
       " RelationRecord(items=frozenset({593, 260}), support=0.006557377049180328, ordered_statistics=[OrderedStatistic(items_base=frozenset({593}), items_add=frozenset({260}), confidence=0.5, lift=6.931818181818182)]),\n",
       " RelationRecord(items=frozenset({1196, 260}), support=0.003278688524590164, ordered_statistics=[OrderedStatistic(items_base=frozenset({1196}), items_add=frozenset({260}), confidence=1.0, lift=13.863636363636363)]),\n",
       " RelationRecord(items=frozenset({260, 1198}), support=0.003278688524590164, ordered_statistics=[OrderedStatistic(items_base=frozenset({1198}), items_add=frozenset({260}), confidence=0.6666666666666666, lift=9.24242424242424)]),\n",
       " RelationRecord(items=frozenset({296, 293}), support=0.004918032786885246, ordered_statistics=[OrderedStatistic(items_base=frozenset({293}), items_add=frozenset({296}), confidence=0.2307692307692308, lift=5.027472527472528)]),\n",
       " RelationRecord(items=frozenset({356, 318}), support=0.01639344262295082, ordered_statistics=[OrderedStatistic(items_base=frozenset({318}), items_add=frozenset({356}), confidence=0.25, lift=6.630434782608695), OrderedStatistic(items_base=frozenset({356}), items_add=frozenset({318}), confidence=0.43478260869565216, lift=6.630434782608695)]),\n",
       " RelationRecord(items=frozenset({318, 527}), support=0.014754098360655738, ordered_statistics=[OrderedStatistic(items_base=frozenset({318}), items_add=frozenset({527}), confidence=0.225, lift=9.803571428571429), OrderedStatistic(items_base=frozenset({527}), items_add=frozenset({318}), confidence=0.6428571428571429, lift=9.803571428571429)]),\n",
       " RelationRecord(items=frozenset({593, 318}), support=0.004918032786885246, ordered_statistics=[OrderedStatistic(items_base=frozenset({593}), items_add=frozenset({318}), confidence=0.37500000000000006, lift=5.718750000000001)]),\n",
       " RelationRecord(items=frozenset({1704, 318}), support=0.003278688524590164, ordered_statistics=[OrderedStatistic(items_base=frozenset({1704}), items_add=frozenset({318}), confidence=1.0, lift=15.25)]),\n",
       " RelationRecord(items=frozenset({837, 327}), support=0.003278688524590164, ordered_statistics=[OrderedStatistic(items_base=frozenset({327}), items_add=frozenset({837}), confidence=0.3333333333333333, lift=101.66666666666666), OrderedStatistic(items_base=frozenset({837}), items_add=frozenset({327}), confidence=1.0, lift=101.66666666666666)]),\n",
       " RelationRecord(items=frozenset({356, 527}), support=0.006557377049180328, ordered_statistics=[OrderedStatistic(items_base=frozenset({527}), items_add=frozenset({356}), confidence=0.2857142857142857, lift=7.577639751552794)])]"
      ]
     },
     "execution_count": 24,
     "metadata": {},
     "output_type": "execute_result"
    }
   ],
   "source": [
    "results"
   ]
  },
  {
   "cell_type": "code",
   "execution_count": 25,
   "metadata": {},
   "outputs": [],
   "source": [
    "def inspect(results):\n",
    "    lhs         = [tuple(result[2][0][0])[0] for result in results]\n",
    "    rhs         = [tuple(result[2][0][1])[0] for result in results]\n",
    "    supports    = [result[1] for result in results]\n",
    "    confidences = [result[2][0][2] for result in results]\n",
    "    lifts       = [result[2][0][3] for result in results]\n",
    "    return list(zip(lhs, rhs, supports, confidences, lifts))\n",
    "resultsinDataFrame = pd.DataFrame(inspect(results), columns = ['Left Hand Side', 'Right Hand Side', 'Support', 'Confidence', 'Lift'])"
   ]
  },
  {
   "cell_type": "code",
   "execution_count": 30,
   "metadata": {},
   "outputs": [
    {
     "data": {
      "text/html": [
       "<div>\n",
       "<style scoped>\n",
       "    .dataframe tbody tr th:only-of-type {\n",
       "        vertical-align: middle;\n",
       "    }\n",
       "\n",
       "    .dataframe tbody tr th {\n",
       "        vertical-align: top;\n",
       "    }\n",
       "\n",
       "    .dataframe thead th {\n",
       "        text-align: right;\n",
       "    }\n",
       "</style>\n",
       "<table border=\"1\" class=\"dataframe\">\n",
       "  <thead>\n",
       "    <tr style=\"text-align: right;\">\n",
       "      <th></th>\n",
       "      <th>Left Hand Side</th>\n",
       "      <th>Right Hand Side</th>\n",
       "      <th>Support</th>\n",
       "      <th>Confidence</th>\n",
       "      <th>Lift</th>\n",
       "    </tr>\n",
       "  </thead>\n",
       "  <tbody>\n",
       "    <tr>\n",
       "      <th>26</th>\n",
       "      <td>60</td>\n",
       "      <td>262</td>\n",
       "      <td>0.003279</td>\n",
       "      <td>0.333333</td>\n",
       "      <td>101.666667</td>\n",
       "    </tr>\n",
       "    <tr>\n",
       "      <th>50</th>\n",
       "      <td>327</td>\n",
       "      <td>837</td>\n",
       "      <td>0.003279</td>\n",
       "      <td>0.333333</td>\n",
       "      <td>101.666667</td>\n",
       "    </tr>\n",
       "    <tr>\n",
       "      <th>28</th>\n",
       "      <td>216</td>\n",
       "      <td>104</td>\n",
       "      <td>0.003279</td>\n",
       "      <td>0.666667</td>\n",
       "      <td>29.047619</td>\n",
       "    </tr>\n",
       "    <tr>\n",
       "      <th>17</th>\n",
       "      <td>62</td>\n",
       "      <td>31</td>\n",
       "      <td>0.003279</td>\n",
       "      <td>0.400000</td>\n",
       "      <td>22.181818</td>\n",
       "    </tr>\n",
       "    <tr>\n",
       "      <th>34</th>\n",
       "      <td>147</td>\n",
       "      <td>296</td>\n",
       "      <td>0.003279</td>\n",
       "      <td>1.000000</td>\n",
       "      <td>21.785714</td>\n",
       "    </tr>\n",
       "    <tr>\n",
       "      <th>23</th>\n",
       "      <td>158</td>\n",
       "      <td>48</td>\n",
       "      <td>0.003279</td>\n",
       "      <td>0.400000</td>\n",
       "      <td>17.428571</td>\n",
       "    </tr>\n",
       "    <tr>\n",
       "      <th>24</th>\n",
       "      <td>168</td>\n",
       "      <td>48</td>\n",
       "      <td>0.003279</td>\n",
       "      <td>0.400000</td>\n",
       "      <td>17.428571</td>\n",
       "    </tr>\n",
       "    <tr>\n",
       "      <th>49</th>\n",
       "      <td>1704</td>\n",
       "      <td>318</td>\n",
       "      <td>0.003279</td>\n",
       "      <td>1.000000</td>\n",
       "      <td>15.250000</td>\n",
       "    </tr>\n",
       "    <tr>\n",
       "      <th>22</th>\n",
       "      <td>60</td>\n",
       "      <td>48</td>\n",
       "      <td>0.003279</td>\n",
       "      <td>0.333333</td>\n",
       "      <td>14.523810</td>\n",
       "    </tr>\n",
       "    <tr>\n",
       "      <th>14</th>\n",
       "      <td>24</td>\n",
       "      <td>31</td>\n",
       "      <td>0.003279</td>\n",
       "      <td>0.250000</td>\n",
       "      <td>13.863636</td>\n",
       "    </tr>\n",
       "  </tbody>\n",
       "</table>\n",
       "</div>"
      ],
      "text/plain": [
       "    Left Hand Side  Right Hand Side   Support  Confidence        Lift\n",
       "26              60              262  0.003279    0.333333  101.666667\n",
       "50             327              837  0.003279    0.333333  101.666667\n",
       "28             216              104  0.003279    0.666667   29.047619\n",
       "17              62               31  0.003279    0.400000   22.181818\n",
       "34             147              296  0.003279    1.000000   21.785714\n",
       "23             158               48  0.003279    0.400000   17.428571\n",
       "24             168               48  0.003279    0.400000   17.428571\n",
       "49            1704              318  0.003279    1.000000   15.250000\n",
       "22              60               48  0.003279    0.333333   14.523810\n",
       "14              24               31  0.003279    0.250000   13.863636"
      ]
     },
     "execution_count": 30,
     "metadata": {},
     "output_type": "execute_result"
    }
   ],
   "source": [
    "resultsinDataFrame.nlargest(n = 10, columns = 'Lift')"
   ]
  },
  {
   "cell_type": "code",
   "execution_count": 31,
   "metadata": {},
   "outputs": [],
   "source": [
    "movies = pd.read_csv('movies.csv')"
   ]
  },
  {
   "cell_type": "code",
   "execution_count": 84,
   "metadata": {},
   "outputs": [
    {
     "data": {
      "text/html": [
       "<div>\n",
       "<style scoped>\n",
       "    .dataframe tbody tr th:only-of-type {\n",
       "        vertical-align: middle;\n",
       "    }\n",
       "\n",
       "    .dataframe tbody tr th {\n",
       "        vertical-align: top;\n",
       "    }\n",
       "\n",
       "    .dataframe thead th {\n",
       "        text-align: right;\n",
       "    }\n",
       "</style>\n",
       "<table border=\"1\" class=\"dataframe\">\n",
       "  <thead>\n",
       "    <tr style=\"text-align: right;\">\n",
       "      <th></th>\n",
       "      <th>movieId</th>\n",
       "      <th>title</th>\n",
       "      <th>genres</th>\n",
       "    </tr>\n",
       "  </thead>\n",
       "  <tbody>\n",
       "    <tr>\n",
       "      <th>226</th>\n",
       "      <td>262</td>\n",
       "      <td>Little Princess, A (1995)</td>\n",
       "      <td>Children|Drama</td>\n",
       "    </tr>\n",
       "  </tbody>\n",
       "</table>\n",
       "</div>"
      ],
      "text/plain": [
       "     movieId                      title          genres\n",
       "226      262  Little Princess, A (1995)  Children|Drama"
      ]
     },
     "execution_count": 84,
     "metadata": {},
     "output_type": "execute_result"
    }
   ],
   "source": [
    "movie_list = movies[movies.title.str.contains('Little Princess')]\n",
    "movie_list.head(1)"
   ]
  },
  {
   "cell_type": "code",
   "execution_count": 63,
   "metadata": {},
   "outputs": [],
   "source": [
    "mid = movie_list.iloc[0, 0]"
   ]
  },
  {
   "cell_type": "code",
   "execution_count": 78,
   "metadata": {},
   "outputs": [],
   "source": [
    "mid_ = resultsinDataFrame[resultsinDataFrame['Right Hand Side']==mid].iloc[0, 0]"
   ]
  },
  {
   "cell_type": "code",
   "execution_count": 79,
   "metadata": {},
   "outputs": [
    {
     "data": {
      "text/html": [
       "<div>\n",
       "<style scoped>\n",
       "    .dataframe tbody tr th:only-of-type {\n",
       "        vertical-align: middle;\n",
       "    }\n",
       "\n",
       "    .dataframe tbody tr th {\n",
       "        vertical-align: top;\n",
       "    }\n",
       "\n",
       "    .dataframe thead th {\n",
       "        text-align: right;\n",
       "    }\n",
       "</style>\n",
       "<table border=\"1\" class=\"dataframe\">\n",
       "  <thead>\n",
       "    <tr style=\"text-align: right;\">\n",
       "      <th></th>\n",
       "      <th>Left Hand Side</th>\n",
       "      <th>Right Hand Side</th>\n",
       "      <th>Support</th>\n",
       "      <th>Confidence</th>\n",
       "      <th>Lift</th>\n",
       "    </tr>\n",
       "  </thead>\n",
       "  <tbody>\n",
       "    <tr>\n",
       "      <th>26</th>\n",
       "      <td>60</td>\n",
       "      <td>262</td>\n",
       "      <td>0.003279</td>\n",
       "      <td>0.333333</td>\n",
       "      <td>101.666667</td>\n",
       "    </tr>\n",
       "  </tbody>\n",
       "</table>\n",
       "</div>"
      ],
      "text/plain": [
       "    Left Hand Side  Right Hand Side   Support  Confidence        Lift\n",
       "26              60              262  0.003279    0.333333  101.666667"
      ]
     },
     "execution_count": 79,
     "metadata": {},
     "output_type": "execute_result"
    }
   ],
   "source": [
    "resultsinDataFrame[resultsinDataFrame['Right Hand Side']==mid]"
   ]
  },
  {
   "cell_type": "code",
   "execution_count": 80,
   "metadata": {},
   "outputs": [
    {
     "data": {
      "text/html": [
       "<div>\n",
       "<style scoped>\n",
       "    .dataframe tbody tr th:only-of-type {\n",
       "        vertical-align: middle;\n",
       "    }\n",
       "\n",
       "    .dataframe tbody tr th {\n",
       "        vertical-align: top;\n",
       "    }\n",
       "\n",
       "    .dataframe thead th {\n",
       "        text-align: right;\n",
       "    }\n",
       "</style>\n",
       "<table border=\"1\" class=\"dataframe\">\n",
       "  <thead>\n",
       "    <tr style=\"text-align: right;\">\n",
       "      <th></th>\n",
       "      <th>movieId</th>\n",
       "      <th>title</th>\n",
       "      <th>genres</th>\n",
       "    </tr>\n",
       "  </thead>\n",
       "  <tbody>\n",
       "    <tr>\n",
       "      <th>53</th>\n",
       "      <td>60</td>\n",
       "      <td>Indian in the Cupboard, The (1995)</td>\n",
       "      <td>Adventure|Children|Fantasy</td>\n",
       "    </tr>\n",
       "  </tbody>\n",
       "</table>\n",
       "</div>"
      ],
      "text/plain": [
       "    movieId                               title                      genres\n",
       "53       60  Indian in the Cupboard, The (1995)  Adventure|Children|Fantasy"
      ]
     },
     "execution_count": 80,
     "metadata": {},
     "output_type": "execute_result"
    }
   ],
   "source": [
    "movies[movies.movieId == mid_]"
   ]
  }
 ],
 "metadata": {
  "kernelspec": {
   "display_name": "Python 3",
   "language": "python",
   "name": "python3"
  },
  "language_info": {
   "codemirror_mode": {
    "name": "ipython",
    "version": 3
   },
   "file_extension": ".py",
   "mimetype": "text/x-python",
   "name": "python",
   "nbconvert_exporter": "python",
   "pygments_lexer": "ipython3",
   "version": "3.8.5"
  }
 },
 "nbformat": 4,
 "nbformat_minor": 4
}
